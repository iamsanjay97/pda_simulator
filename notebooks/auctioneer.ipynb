{
 "cells": [
  {
   "cell_type": "code",
   "execution_count": 1,
   "metadata": {},
   "outputs": [],
   "source": [
    "import numpy as np\n",
    "import pandas as pd\n",
    "\n",
    "from ipynb.fs.full.config import Config\n",
    "from collections import OrderedDict\n",
    "from matplotlib import pyplot as plt\n",
    "\n",
    "import warnings\n",
    "warnings.filterwarnings('ignore')"
   ]
  },
  {
   "cell_type": "code",
   "execution_count": 2,
   "metadata": {},
   "outputs": [],
   "source": [
    "config = Config()"
   ]
  },
  {
   "cell_type": "code",
   "execution_count": 3,
   "metadata": {},
   "outputs": [],
   "source": [
    "def plot(asks_df, bids_df):\n",
    "        ask_prices = list(asks_df['Price'])\n",
    "        ask_quantities = list(asks_df['Quantity'])\n",
    "        \n",
    "        ask_prices.insert(0, ask_prices[0])\n",
    "        ask_quantities.insert(0, 0)\n",
    "        ask_cum_quantities = np.cumsum(ask_quantities)\n",
    "        \n",
    "        bid_prices = list(bids_df['Price'])\n",
    "        bid_quantities = list(bids_df['Quantity'])\n",
    "        \n",
    "        bid_prices.insert(0, bid_prices[0])\n",
    "        bid_quantities.insert(0, 0)\n",
    "        bid_cum_quantities = np.cumsum(bid_quantities)\n",
    "                \n",
    "        plt.step(np.negative(ask_cum_quantities), ask_prices, where='pre')\n",
    "        plt.step(bid_cum_quantities, np.negative(bid_prices), where='pre')\n",
    "        plt.show()"
   ]
  },
  {
   "cell_type": "code",
   "execution_count": 5,
   "metadata": {},
   "outputs": [],
   "source": [
    "def clearing_mechanism(asks_df, bids_df):\n",
    "       \n",
    "    total_mwh = 0.0\n",
    "    mcp = 40.0                                    # default macp when both ask and bid are market order                      \n",
    "    cleared_asks = list()\n",
    "    cleared_bids = list()\n",
    "\n",
    "    i = 0\n",
    "\n",
    "    while (not asks_df.empty and not bids_df.empty and (-bids_df[:1].values[0][1] > asks_df[:1].values[0][1])):\n",
    "        i += 1\n",
    "\n",
    "        bid = bids_df[:1].values[0]               # a single bid in the form of ['ID', 'Price', 'Quantity']\n",
    "        ask = asks_df[:1].values[0]               # a single ask in the form of ['ID', 'Price', 'Quantity']\n",
    "\n",
    "        transfer = min(bid[2], -ask[2])           # index 2 is for Quantity\n",
    "\n",
    "        total_mwh += transfer\n",
    "        if (-bid[1] != config.market_order_bid_price):\n",
    "            if (ask[1] != config.market_order_ask_price):\n",
    "                mcp = ask[1] + config.k*(-bid[1] - ask[1])\n",
    "            else:\n",
    "                mcp = -bid[1] / (1.0 + config.default_margin)\n",
    "        else:\n",
    "            if (ask[1] != 0):\n",
    "                mcp = ask[1] * (1.0 + config.default_margin)\n",
    "\n",
    "\n",
    "        if (transfer == bid[2]):                   # bid is fully cleared \n",
    "            asks_df['Quantity'][:1] = asks_df['Quantity'][:1] + transfer   # ask quantity is negative\n",
    "            ask[2] = -transfer\n",
    "            cleared_asks.append(ask)\n",
    "            cleared_bids.append(bid)\n",
    "            bids_df = bids_df[1:]\n",
    "        else:                                     # ask is fully cleared  \n",
    "            bids_df['Quantity'][:1] = bids_df['Quantity'][:1] - transfer\n",
    "            bid[2] = transfer\n",
    "            cleared_bids.append(bid)\n",
    "            cleared_asks.append(ask)\n",
    "            asks_df = asks_df[1:]\n",
    "\n",
    "    cleared_asks_df = pd.DataFrame(cleared_asks, columns=['ID', 'Price', 'Quantity'])\n",
    "    cleared_bids_df = pd.DataFrame(cleared_bids, columns=['ID', 'Price', 'Quantity'])\n",
    "    \n",
    "    return mcp, total_mwh, cleared_asks_df, cleared_bids_df"
   ]
  }
 ],
 "metadata": {
  "kernelspec": {
   "display_name": "base",
   "language": "python",
   "name": "python3"
  },
  "language_info": {
   "codemirror_mode": {
    "name": "ipython",
    "version": 3
   },
   "file_extension": ".py",
   "mimetype": "text/x-python",
   "name": "python",
   "nbconvert_exporter": "python",
   "pygments_lexer": "ipython3",
   "version": "3.11.4"
  }
 },
 "nbformat": 4,
 "nbformat_minor": 2
}
