{
 "cells": [
  {
   "cell_type": "code",
   "execution_count": 1,
   "metadata": {},
   "outputs": [],
   "source": [
    "import numpy as np"
   ]
  },
  {
   "cell_type": "code",
   "execution_count": 2,
   "metadata": {},
   "outputs": [],
   "source": [
    "## Configuration file having all the configurable parameters\n",
    "\n",
    "class Config:\n",
    "\n",
    "    def __init__(self):\n",
    "        self.k = 0.5                                    # factor k for k-double auction clearning\n",
    "        self.default_margin = 0.05                      # margin when seller's ask is market-order\n",
    "        self.market_demand = np.random.normal(120, 10)  # randomly generated market demand (in mwh)\n",
    "        self.market_order_bid_price = 1e9\n",
    "        self.market_order_ask_price = 0"
   ]
  }
 ],
 "metadata": {
  "kernelspec": {
   "display_name": "Python 3",
   "language": "python",
   "name": "python3"
  },
  "language_info": {
   "codemirror_mode": {
    "name": "ipython",
    "version": 3
   },
   "file_extension": ".py",
   "mimetype": "text/x-python",
   "name": "python",
   "nbconvert_exporter": "python",
   "pygments_lexer": "ipython3",
   "version": "3.1.0"
  }
 },
 "nbformat": 4,
 "nbformat_minor": 2
}
