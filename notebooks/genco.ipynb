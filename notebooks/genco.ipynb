{
 "cells": [
  {
   "cell_type": "code",
   "execution_count": 1,
   "metadata": {},
   "outputs": [],
   "source": [
    "import math\n",
    "\n",
    "from collections import OrderedDict\n",
    "from ipynb.fs.full.config import Config\n",
    "\n",
    "import warnings\n",
    "warnings.filterwarnings('ignore')"
   ]
  },
  {
   "cell_type": "code",
   "execution_count": 2,
   "metadata": {},
   "outputs": [],
   "source": [
    "## A Naive Congestion Pricing Genco model\n",
    "\n",
    "class CPGenco:\n",
    "    def __init__(self, id):\n",
    "        self.seed_value = 0 # seed value will be overidden\n",
    "        self.id = id\n",
    "        self.total_quantity = 1500 \n",
    "        self.cleared_quantity = 0\n",
    "        self.knee_demand = 900 # Congesiton threshold\n",
    "        self.knee_slope = 5\n",
    "        self.min_ask_quant = 15\n",
    "        self.a = 0.00004132\n",
    "        self.b = 0.00182\n",
    "        self.c = 14\n",
    "        self.p = 6\n",
    "        \n",
    "    def scale_coeff(self):\n",
    "        y = self.a * self.knee_demand *self.knee_demand + self.b * self.knee_demand + self.c\n",
    "        self.a *= self.knee_slope\n",
    "        self.b *= self.knee_slope\n",
    "        self.c = y - self.a * self.knee_demand * self.knee_demand - self.b * self.knee_demand        \n",
    "        self.p *= 2\n",
    " \n",
    "    def quad_function(self, cum_quantity):\n",
    "        a,b,c,p = self.a,self.b,self.c,self.p\n",
    "        if cum_quantity >= self.knee_demand: \n",
    "            self.scale_coeff()\n",
    "                    \n",
    "        q = cum_quantity\n",
    "        price = self.a*(q**2)+self.b*q+self.c\n",
    "        quantity = max((-self.b/(2.0*self.a) + math.sqrt(self.b**2+4.0*self.a*(self.a*(q**2)+self.b*q+self.p))/(2.0*self.a) - q) , self.min_ask_quant)\n",
    "        self.a,self.b,self.c,self.p = a,b,c,p\n",
    "        return price, quantity\n",
    "    \n",
    "    def asks(self):\n",
    "        asks = list()\n",
    "        cum_quantity = self.cleared_quantity\n",
    "        while cum_quantity < self.total_quantity:\n",
    "            price, quantity = self.quad_function(cum_quantity)\n",
    "            cum_quantity += quantity\n",
    "            asks.append([self.id, price, -quantity])\n",
    "\n",
    "        return asks\n",
    "    \n",
    "    def set_cleared_quantity(self, cleared_quantity):\n",
    "        self.cleared_quantity += cleared_quantity"
   ]
  }
 ],
 "metadata": {
  "kernelspec": {
   "display_name": "base",
   "language": "python",
   "name": "python3"
  },
  "language_info": {
   "codemirror_mode": {
    "name": "ipython",
    "version": 3
   },
   "file_extension": ".py",
   "mimetype": "text/x-python",
   "name": "python",
   "nbconvert_exporter": "python",
   "pygments_lexer": "ipython3",
   "version": "3.11.4"
  }
 },
 "nbformat": 4,
 "nbformat_minor": 2
}
