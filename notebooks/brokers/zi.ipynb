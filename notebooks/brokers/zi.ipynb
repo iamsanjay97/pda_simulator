{
 "cells": [
  {
   "cell_type": "code",
   "execution_count": 1,
   "metadata": {},
   "outputs": [],
   "source": [
    "import sys  \n",
    "sys.path.insert(1, '/home/sanjay/Research/MCTS/Codes/pda_simulator/notebooks')\n",
    "\n",
    "import math\n",
    "import numpy as np\n",
    "import pandas as pd\n",
    "\n",
    "from ipynb.fs.full.config import Config\n",
    "\n",
    "import warnings\n",
    "warnings.filterwarnings('ignore')"
   ]
  },
  {
   "cell_type": "code",
   "execution_count": 2,
   "metadata": {},
   "outputs": [],
   "source": [
    "## A Randomized Way to Generate Buyer's Bids\n",
    "\n",
    "class ZI:\n",
    "    def __init__(self, total_demand, number_of_bids, buy_limit_price_min=-100.0, buy_limit_price_max=-1.0, sell_limit_price_min=0.5, sell_limit_price_max=100.0, id='ZI'):\n",
    "        self.seed_value = 0 # seed value will be overidden\n",
    "        self.id = id\n",
    "        self.total_demand = total_demand \n",
    "        self.cleared_demand = 0\n",
    "        self.min_bid_quant = 0.01\n",
    "        self.number_of_bids = number_of_bids\n",
    "        self.buy_limit_price_min = buy_limit_price_min\n",
    "        self.buy_limit_price_max = buy_limit_price_max\n",
    "        self.sell_limit_price_min = sell_limit_price_min\n",
    "        self.sell_limit_price_max = sell_limit_price_max\n",
    " \n",
    "    def gen_function(self, rem_quantity):\n",
    "        price = np.random.uniform(self.buy_limit_price_min, self.buy_limit_price_max)\n",
    "        quantity = max(rem_quantity/self.number_of_bids, self.min_bid_quant)\n",
    "        return price, quantity\n",
    "    \n",
    "    def bids(self):\n",
    "        rem_quantity = self.total_demand - self.cleared_demand\n",
    "        \n",
    "        if rem_quantity < self.min_bid_quant:\n",
    "            return None\n",
    "            \n",
    "        bids = list()\n",
    "        for i in range(self.number_of_bids):\n",
    "            price, quantity = self.gen_function(rem_quantity)\n",
    "            bids.append([self.id, price, quantity])\n",
    "\n",
    "        return bids\n",
    "    \n",
    "    def set_cleared_demand(self, cleared_demand):\n",
    "        self.cleared_demand += cleared_demand"
   ]
  }
 ],
 "metadata": {
  "kernelspec": {
   "display_name": "base",
   "language": "python",
   "name": "python3"
  },
  "language_info": {
   "codemirror_mode": {
    "name": "ipython",
    "version": 3
   },
   "file_extension": ".py",
   "mimetype": "text/x-python",
   "name": "python",
   "nbconvert_exporter": "python",
   "pygments_lexer": "ipython3",
   "version": "3.11.4"
  }
 },
 "nbformat": 4,
 "nbformat_minor": 2
}
